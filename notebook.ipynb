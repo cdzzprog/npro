{
 "cells": [
  {
   "cell_type": "markdown",
   "metadata": {},
   "source": [
    "git命令操作：\n",
    "cd e:/repository  切换到仓库目录\n",
    "git init 初始化仓库\n",
    "touch add test2.py  git add test2.py 创建py文件\n",
    "git branch 查询分支\n",
    "git checkout   切换分支\n",
    "git checkout -b name    创建分支\n",
    "git log 查询提交历史（日志）  \n",
    "      – `退出操作`：按q键（CTRL+C）退出日志模式\n",
    "git reset --hard 版本号  恢复提交版本\n",
    "      – `–soft`：回退到目标提交，但保留回退之后的所有更改；\n",
    "      – `–mixed`：回退到目标提交，撤销之后的所有更改，但保留更改的文件；\n",
    "      – `–hard`：回退到目标提交，彻底删除之后的所有更改。 \n",
    "git push origin main(分支名) --force  推送到远程分支\n"
   ]
  },
  {
   "cell_type": "markdown",
   "metadata": {},
   "source": [
    "conda 命令操作：\n",
    "conda config --show     查询配置文件\n",
    "conda activate pytorch  激活环境\n"
   ]
  },
  {
   "cell_type": "markdown",
   "metadata": {},
   "source": [
    "vscode基本操作：\n",
    "\n",
    "在VSCode中跳转到函数定义的方法有多种，以下是几种常见的方法：\n",
    " 使用快捷键：\n",
    "Windows/Linux：按住Ctrl键并单击函数名，或者按下F12键。‌12\n",
    "macOS：按住Cmd键并单击函数名，或者按下F12键。‌23\n",
    " 使用符号导航面板：\n",
    "按下Ctrl+Shift+O组合键，打开符号导航面板，输入函数名，选择匹配的函数名并按下回车键即可跳转。‌13\n",
    " 使用代码导航栏：\n",
    "在编辑器的左侧栏中，找到代码导航栏，点击相应的函数即可跳转到函数定义。‌3\n",
    " 使用命令面板：\n",
    "按下Ctrl+Shift+P打开命令面板，输入“Go to Definition”或“Go to Declaration”，选择相应的选项即可跳转。\n",
    " 使用鼠标悬停：\n",
    "将鼠标悬停在函数名上，点击下划线即可跳转到函数定义。‌2\n",
    " 使用右键菜单：\n",
    "右键点击函数名，选择“转到定义”选项即可跳转。\n",
    "注意事项：\n",
    "确保VSCode中已正确配置和安装了必要的扩展，如C/C++扩展包，以确保“转到定义”功能正常工作。‌4\n",
    "如果“转到定义”功能不起作用，可以尝试重新安装VSCode或重新启用/禁用相关扩展。"
   ]
  },
  {
   "cell_type": "markdown",
   "metadata": {},
   "source": [
    "pytorch 基本操作\n",
    "\n",
    "\n",
    "\n",
    "\n"
   ]
  },
  {
   "cell_type": "markdown",
   "metadata": {},
   "source": [
    "常见代码错误及解决办法：\n",
    "1.vscode在编辑界面文字出现黄色方框:点击 文件——首选项——设置，设置里内容太多，建设搜索框进行搜索unicode，对应的选项Non Basic ASCLL修改为false。\n",
    "\n",
    "\n",
    "\n"
   ]
  },
  {
   "cell_type": "markdown",
   "metadata": {},
   "source": [
    "vscode 字体颜色设置\n",
    "\n",
    " \"editor.tokenColorCustomizations\": {\n",
    "    \"comments\": \"#EE00EE\", // 注释\n",
    "    // \"keywords\": \"#0a0\", // 关键字\n",
    "    // \"variables\": \"#f00\", // 变量名\n",
    "    // \"strings\": \"#e2d75dbd\", // 字符串\n",
    "    //\"functions\": \"#5b99fcc9\", // 函数名\n",
    "    // \"numbers\": \"#AE81FF\" // 数字\n",
    "    },\n",
    "\n",
    "\n",
    "\n",
    "\n",
    "\n",
    "https://api.openai.com/v1"
   ]
  }
 ],
 "metadata": {
  "language_info": {
   "name": "python"
  }
 },
 "nbformat": 4,
 "nbformat_minor": 2
}
