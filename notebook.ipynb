{
 "cells": [
  {
   "cell_type": "markdown",
   "metadata": {},
   "source": [
    "git命令操作：\n",
    "cd e:/repository  切换到仓库目录\n",
    "git init 初始化仓库\n",
    "touch add test2.py  git add test2.py 创建py文件\n",
    "git branch 查询分支\n",
    "git checkout   切换分支\n",
    "git checkout -b name    创建分支\n",
    "git log 查询提交历史（日志）  \n",
    "      – `退出操作`：按q键（CTRL+C）退出日志模式\n",
    "git reset --hard 版本号  恢复提交版本\n",
    "      – `–soft`：回退到目标提交，但保留回退之后的所有更改；\n",
    "      – `–mixed`：回退到目标提交，撤销之后的所有更改，但保留更改的文件；\n",
    "      – `–hard`：回退到目标提交，彻底删除之后的所有更改。 \n",
    "git push origin main(分支名) --force  推送到远程分支\n"
   ]
  },
  {
   "cell_type": "markdown",
   "metadata": {},
   "source": [
    "conda 命令操作：\n",
    "conda config --show     查询配置文件\n",
    "conda activate pytorch  激活环境\n"
   ]
  },
  {
   "cell_type": "markdown",
   "metadata": {},
   "source": [
    "pytorch 操作手册\n",
    "\n",
    "\n",
    "\n",
    "\n"
   ]
  },
  {
   "cell_type": "markdown",
   "metadata": {},
   "source": [
    "常见代码错误及解决办法：\n",
    "1.vscode在编辑界面文字出现黄色方框:点击 文件——首选项——设置，设置里内容太多，建设搜索框进行搜索unicode，对应的选项Non Basic ASCLL修改为false。\n",
    "\n",
    "\n",
    "\n"
   ]
  },
  {
   "cell_type": "markdown",
   "metadata": {},
   "source": [
    "\n"
   ]
  }
 ],
 "metadata": {
  "language_info": {
   "name": "python"
  }
 },
 "nbformat": 4,
 "nbformat_minor": 2
}
