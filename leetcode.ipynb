{
 "cells": [
  {
   "cell_type": "code",
   "execution_count": 1,
   "metadata": {},
   "outputs": [
    {
     "name": "stdout",
     "output_type": "stream",
     "text": [
      "[0, 1]\n"
     ]
    }
   ],
   "source": [
    "#两数之和\n",
    "class Solution:\n",
    "    def twoSum(self, nums, target):\n",
    "        num_to_index = {}\n",
    "        for i, num in enumerate(nums):\n",
    "            complement = target - num\n",
    "            if complement in num_to_index:\n",
    "                return [num_to_index[complement], i]\n",
    "            num_to_index[num] = i\n",
    "        return []\n",
    "#测试用例\n",
    "nums = [2, 7, 11, 15]\n",
    "target = 9\n",
    "solution = Solution()\n",
    "result = solution.twoSum(nums, target)\n",
    "print(result)   "
   ]
  },
  {
   "cell_type": "code",
   "execution_count": 6,
   "metadata": {},
   "outputs": [
    {
     "name": "stdout",
     "output_type": "stream",
     "text": [
      "7 -> 0 -> 8 -> None\n",
      "0 -> 0 -> 1 -> None\n",
      "1 -> 8 -> None\n",
      "None\n",
      "0 -> 9 -> 9 -> 1 -> None\n"
     ]
    }
   ],
   "source": [
    "#两数相加\n",
    "class ListNode:\n",
    "    def __init__(self, val=0, next=None):\n",
    "        self.val = val\n",
    "        self.next = next\n",
    "\n",
    "class Solution:\n",
    "    def addTwoNumbers(self, l1, l2):\n",
    "        dummy_head = ListNode(0)\n",
    "        current = dummy_head\n",
    "        carry = 0\n",
    "\n",
    "        while l1 or l2 or carry:\n",
    "            val1 = l1.val if l1 else 0\n",
    "            val2 = l2.val if l2 else 0\n",
    "\n",
    "            total = val1 + val2 + carry\n",
    "            carry = total // 10\n",
    "            current.next = ListNode(total % 10)\n",
    "            current = current.next\n",
    "\n",
    "            if l1:\n",
    "                l1 = l1.next\n",
    "            if l2:\n",
    "                l2 = l2.next\n",
    "\n",
    "        return dummy_head.next\n",
    "\n",
    "\n",
    "#测试用例\n",
    "\n",
    "def print_list(node):\n",
    "    while node:\n",
    "        print(node.val, end=\" -> \")\n",
    "        node = node.next\n",
    "    print(\"None\")\n",
    "\n",
    "# Test case 1: Normal case\n",
    "l1 = ListNode(2, ListNode(4, ListNode(3)))  # Represents 342\n",
    "l2 = ListNode(5, ListNode(6, ListNode(4)))  # Represents 465\n",
    "solution = Solution()\n",
    "result = solution.addTwoNumbers(l1, l2)\n",
    "print_list(result)  # Expected output: 7 -> 0 -> 8 -> None (Represents 807)\n",
    "\n",
    "# Test case 2: Different lengths\n",
    "l1 = ListNode(9, ListNode(9))  # Represents 99\n",
    "l2 = ListNode(1)  # Represents 1\n",
    "result = solution.addTwoNumbers(l1, l2)\n",
    "print_list(result)  # Expected output: 0 -> 0 -> 1 -> None (Represents 100)\n",
    "\n",
    "# Test case 3: One list empty\n",
    "l1 = ListNode(1, ListNode(8))  # Represents 81\n",
    "l2 = ListNode(0)  # Represents 0\n",
    "result = solution.addTwoNumbers(l1, l2)\n",
    "print_list(result)  # Expected output: 1 -> 8 -> None (Represents 81)\n",
    "\n",
    "# Test case 4: Both lists empty\n",
    "l1 = None\n",
    "l2 = None\n",
    "result = solution.addTwoNumbers(l1, l2)\n",
    "print_list(result)  # Expected output: None\n",
    "\n",
    "# Test case 5: Larger numbers\n",
    "l1 = ListNode(1, ListNode(9, ListNode(9)))  # Represents 991\n",
    "l2 = ListNode(9, ListNode(9, ListNode(9)))  # Represents 9999\n",
    "result = solution.addTwoNumbers(l1, l2)\n",
    "print_list(result)  # Expected output: 0 -> 0 -> 0 -> 1 -> None (Represents 10990)                    "
   ]
  },
  {
   "cell_type": "code",
   "execution_count": 1,
   "metadata": {},
   "outputs": [
    {
     "name": "stdout",
     "output_type": "stream",
     "text": [
      "7\n"
     ]
    }
   ],
   "source": [
    "def bitwise_or_of_array(nums):\n",
    "    result = 0  # 初始化结果为0\n",
    "    for num in nums:\n",
    "        result |= num  # 进行按位 OR 运算\n",
    "    return result\n",
    "\n",
    "# 输入\n",
    "nums = [1, 2, 4, 5]\n",
    "# 计算结果\n",
    "output = bitwise_or_of_array(nums)\n",
    "print(output)  # 输出结果\n"
   ]
  },
  {
   "cell_type": "code",
   "execution_count": 3,
   "metadata": {},
   "outputs": [
    {
     "name": "stdout",
     "output_type": "stream",
     "text": [
      "0\n",
      "nums = [1, 2, 4, 5], k = 3 => 输出: 0\n",
      "0\n",
      "1\n",
      "2\n",
      "3\n",
      "nums = [1, 3, 1, 3], k = 2 => 输出: 1\n",
      "0\n",
      "nums = [1], k = 10 => 输出: 9\n"
     ]
    }
   ],
   "source": [
    "def min_absolute_difference(nums, k):\n",
    "    n = len(nums)\n",
    "    min_diff = float('inf')  # 初始化为无穷大\n",
    "    \n",
    "    # 遍历所有可能的子数组\n",
    "    for l in range(n):\n",
    "        print(l)\n",
    "        current_or = 0\n",
    "        for r in range(l, n):\n",
    "            current_or |= nums[r]  # 计算当前子数组的按位 OR\n",
    "            \n",
    "            # 计算与 k 的绝对差\n",
    "            current_diff = abs(current_or - k)\n",
    "            # 更新最小差值\n",
    "            min_diff = min(min_diff, current_diff)\n",
    "            \n",
    "            # 如果差值为0，直接返回\n",
    "            if min_diff == 0:\n",
    "                return 0\n",
    "    \n",
    "    return min_diff\n",
    "\n",
    "# 测试用例\n",
    "test_cases = [\n",
    "    ([1, 2, 4, 5], 3),  # 输出: 0\n",
    "    ([1, 3, 1, 3], 2),  # 输出: 1\n",
    "    ([1], 10)           # 输出: 9\n",
    "]\n",
    "\n",
    "# 输出测试结果\n",
    "for nums, k in test_cases:\n",
    "    result = min_absolute_difference(nums, k)\n",
    "    print(f\"nums = {nums}, k = {k} => 输出: {result}\")\n"
   ]
  },
  {
   "cell_type": "code",
   "execution_count": 5,
   "metadata": {},
   "outputs": [
    {
     "name": "stdout",
     "output_type": "stream",
     "text": [
      "5\n",
      "2\n"
     ]
    }
   ],
   "source": [
    "class Solution():\n",
    "    def numberOfPairs(self, nums1, nums2, k):\n",
    "        n1= len(nums1)\n",
    "        n2=len(nums2)\n",
    "        ans = 0\n",
    "        for i in range(n1):\n",
    "            for j in range(n2):\n",
    "                if nums1[i]%(nums2[j] * k)==0:\n",
    "                    ans += 1\n",
    "        return ans\n",
    "\n",
    "if __name__ == \"__main__\":\n",
    "    solution = Solution()\n",
    "    test_cases = [\n",
    "        ([1, 2, 4, 5],[1,3,4],1),  # 输出: 0\n",
    "        ([1,2,4,12],[2,4], 3),  # 输出: 1\n",
    "                # 输出: 9\n",
    "    ]\n",
    "    \n",
    "    for nums1, nums2, k in test_cases:\n",
    "        print(solution.numberOfPairs(nums1, nums2, k))\n",
    "\n"
   ]
  }
 ],
 "metadata": {
  "kernelspec": {
   "display_name": "cropunet",
   "language": "python",
   "name": "python3"
  },
  "language_info": {
   "codemirror_mode": {
    "name": "ipython",
    "version": 3
   },
   "file_extension": ".py",
   "mimetype": "text/x-python",
   "name": "python",
   "nbconvert_exporter": "python",
   "pygments_lexer": "ipython3",
   "version": "3.12.4"
  }
 },
 "nbformat": 4,
 "nbformat_minor": 2
}
